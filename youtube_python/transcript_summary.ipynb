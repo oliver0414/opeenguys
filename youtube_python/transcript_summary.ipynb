{
 "cells": [
  {
   "cell_type": "code",
   "execution_count": null,
   "metadata": {
    "colab": {
     "base_uri": "https://localhost:8080/",
     "height": 1000
    },
    "executionInfo": {
     "elapsed": 1122,
     "status": "ok",
     "timestamp": 1701436234558,
     "user": {
      "displayName": "윤재현 (Acahti)",
      "userId": "14788659600835622523"
     },
     "user_tz": -540
    },
    "id": "WkUpU01hQg7I",
    "outputId": "f784776a-b93e-414a-cc93-19682b030b35"
   },
   "outputs": [],
   "source": [
    "import pandas as pd\n",
    "\n",
    "# 파일 경로 지정\n",
    "file_path = '/content/drive/MyDrive/osp_team_project/'\n",
    "file_name = 'data_sports_notext.csv'\n",
    "\n",
    "# CSV 파일을 데이터프레임으로 읽기\n",
    "df = pd.read_csv(file_path + file_name)\n",
    "df"
   ]
  },
  {
   "cell_type": "code",
   "execution_count": null,
   "metadata": {
    "executionInfo": {
     "elapsed": 3,
     "status": "ok",
     "timestamp": 1701436234558,
     "user": {
      "displayName": "윤재현 (Acahti)",
      "userId": "14788659600835622523"
     },
     "user_tz": -540
    },
    "id": "RmmnHsddR3sO"
   },
   "outputs": [],
   "source": [
    "# NaN 값을 '.'으로 채우기\n",
    "df['Description'] = df['Description'].fillna('.')"
   ]
  },
  {
   "cell_type": "code",
   "execution_count": null,
   "metadata": {
    "colab": {
     "base_uri": "https://localhost:8080/"
    },
    "executionInfo": {
     "elapsed": 5902,
     "status": "ok",
     "timestamp": 1701436240457,
     "user": {
      "displayName": "윤재현 (Acahti)",
      "userId": "14788659600835622523"
     },
     "user_tz": -540
    },
    "id": "4GL1zQAgS7zu",
    "outputId": "6f854948-b8ac-4036-af31-a624074da8f6"
   },
   "outputs": [],
   "source": [
    "! pip install youtube-transcript-api"
   ]
  },
  {
   "cell_type": "code",
   "execution_count": null,
   "metadata": {
    "colab": {
     "base_uri": "https://localhost:8080/"
    },
    "executionInfo": {
     "elapsed": 36873,
     "status": "ok",
     "timestamp": 1701436277327,
     "user": {
      "displayName": "윤재현 (Acahti)",
      "userId": "14788659600835622523"
     },
     "user_tz": -540
    },
    "id": "0aVl1PAPSWKA",
    "outputId": "b37dc7cb-83a0-48d1-dec1-d313c0c2552d"
   },
   "outputs": [],
   "source": [
    "from youtube_transcript_api import YouTubeTranscriptApi\n",
    "\n",
    "# YouTube 동영상 ID 추출 함수\n",
    "def extract_video_id(link):\n",
    "    return link.split('v=')[1]\n",
    "\n",
    "# 각 행에 대해 YouTube 동영상 ID 추출 및 자막 가져오기\n",
    "for index, row in df.iterrows():\n",
    "    video_id = extract_video_id(row['Video Link'])\n",
    "\n",
    "    try:\n",
    "        transcript = YouTubeTranscriptApi.get_transcript(video_id, languages=['ko'])\n",
    "    except Exception as e:\n",
    "        print(f\"Error fetching transcript for video {video_id}: {e}\")\n",
    "        transcript = []\n",
    "\n",
    "    # 자막이 존재하면 텍스트로 변환하여 'Transcript' 열에 추가\n",
    "    if transcript:\n",
    "\n",
    "      text = ''\n",
    "\n",
    "      for i in range(len(transcript)):\n",
    "        text += transcript[i]['text'] + ' ' # text 부분만 가져옴\n",
    "        df.at[index, 'Transcript'] = text\n",
    "\n",
    "    else:\n",
    "        df.at[index, 'Transcript'] = None"
   ]
  },
  {
   "cell_type": "code",
   "execution_count": null,
   "metadata": {
    "colab": {
     "base_uri": "https://localhost:8080/",
     "height": 1000
    },
    "executionInfo": {
     "elapsed": 14,
     "status": "ok",
     "timestamp": 1701436277327,
     "user": {
      "displayName": "윤재현 (Acahti)",
      "userId": "14788659600835622523"
     },
     "user_tz": -540
    },
    "id": "dLw64ExDTavF",
    "outputId": "c98e0154-7de4-4f8f-d7e0-d1ef77f7f69c"
   },
   "outputs": [],
   "source": [
    "df"
   ]
  },
  {
   "cell_type": "code",
   "execution_count": null,
   "metadata": {
    "colab": {
     "base_uri": "https://localhost:8080/",
     "height": 1000
    },
    "executionInfo": {
     "elapsed": 12,
     "status": "ok",
     "timestamp": 1701436277327,
     "user": {
      "displayName": "윤재현 (Acahti)",
      "userId": "14788659600835622523"
     },
     "user_tz": -540
    },
    "id": "iPBIsTnOUvwm",
    "outputId": "1ef24ee6-eab8-443f-daff-3c818edcb83e"
   },
   "outputs": [],
   "source": [
    "df = df.dropna(subset=['Transcript'])\n",
    "df"
   ]
  },
  {
   "cell_type": "code",
   "execution_count": null,
   "metadata": {
    "colab": {
     "base_uri": "https://localhost:8080/"
    },
    "executionInfo": {
     "elapsed": 11,
     "status": "ok",
     "timestamp": 1701436277327,
     "user": {
      "displayName": "윤재현 (Acahti)",
      "userId": "14788659600835622523"
     },
     "user_tz": -540
    },
    "id": "Qja28N1qVFBC",
    "outputId": "9f29a9ee-3306-4c9e-a5b5-bcac37d0ea08"
   },
   "outputs": [],
   "source": [
    "df.info()"
   ]
  },
  {
   "cell_type": "code",
   "execution_count": null,
   "metadata": {
    "colab": {
     "base_uri": "https://localhost:8080/"
    },
    "executionInfo": {
     "elapsed": 11025,
     "status": "ok",
     "timestamp": 1701436288347,
     "user": {
      "displayName": "윤재현 (Acahti)",
      "userId": "14788659600835622523"
     },
     "user_tz": -540
    },
    "id": "AyPwqya3VMzf",
    "outputId": "cf0d1aa3-26a9-482b-bd99-7d1bf0eaab52"
   },
   "outputs": [],
   "source": [
    "!pip install transformers\n",
    "!pip install sentence_transformers"
   ]
  },
  {
   "cell_type": "code",
   "execution_count": null,
   "metadata": {
    "colab": {
     "base_uri": "https://localhost:8080/",
     "height": 177,
     "referenced_widgets": [
      "5928b82b5ca6451189cca53432ba4e77",
      "d84bd95c7f71470c99c1508d2e592c3f",
      "55ca76f348e748568bca2a6dc83d5f71",
      "270bddfa7c9747899b784f1c4c347300",
      "4282bfa5dfca4e118c6cc3ceb2d8943a",
      "d5cf75784e934e3a8b56b67be09df44a",
      "afed2ada10be4099b66c57aad35b47e8",
      "1cbca8ca45654f769e8486360f5cc446",
      "a585dce499954c98bb1da7502a459a9d",
      "0fc9e7b791214a18b12910a367856140",
      "3cc71625b51145878eb67e2ebd2145ef",
      "d4efe500d04341bcaa204ef5099a25e8",
      "3bdb59e0ae8b4d6697a9c76ea7835378",
      "f6a393f13832422185bfd6dc751967af",
      "01a40bf9d3dc407eba017d464c219315",
      "80b60edf19b4495795fb1ef00b7422dd",
      "e00f085b07e24ae799fc4ed4be7c089f",
      "cfd78d24f545463f95d281ba31175ea6",
      "f1b6c69be49747e982aec09e77950a58",
      "be2eb9801ab8478eba1bcc42b930a4b1",
      "04d1ec6297ad4dfa84644ee1ac92f05b",
      "b3f8feb63e3d45a0b44130940de9a11a",
      "89b9be15aade4642ade3ddf2c10b2ffb",
      "c923dc93dc2e4d199bcc3ab358f5ffa5",
      "184fa87f05b74343a242a70a166046d7",
      "beb29a2c4e3341eabc0efe0fb859cd20",
      "04847523d82e4124818673faaa14944f",
      "1987f16e9602490eb1d1ad0e8e938e68",
      "c28318d8ca0e4a298aba05a999e12bb9",
      "0c1047c8ea9f42af92e4f611b0afed4c",
      "04ca230e11b442b28ac661ecc16d6443",
      "8ab2fcc1f8e5462d9b332fb2774927f4",
      "66c597bd6a90499bb843bfa948cbdbde",
      "56562e89cac44a8da365804fbae76963",
      "46f46dbc3226469b8df84bf6b359e35d",
      "0125e1ec938d4a0180fd23d547c425ed",
      "4a999d6407d5498c87e065dbd5e20160",
      "824ef8bf716e46c2af100dcf557dc166",
      "81af6c74b3b645e9935e4efa4bd98157",
      "794871c746e74ddc9ad7ed0aec07d1ea",
      "542bf63c4c4f46469c1d4448ad5893f9",
      "8f66017373cd4a9fbb7e68cc5168dbf0",
      "55876314972f49988aee4aca590e7f5d",
      "a71047f57da74af89e2d73cf0a05fc58",
      "6f13fbfab9ee434ea9b06f1bb6b20ca1",
      "8a47ace1c96e46dcb7d4fa494b90c197",
      "a8097d04cf884b788704f0edee314d21",
      "26f2575d890a4c82847de111f8fef60b",
      "0481c276208b49988045a4bce2c2ee17",
      "ecde9b2843084e29b3dfb07d5784a7d4",
      "b903ec7afe8446eba8b84f7b9202ecf3",
      "4df43512b7664a5ca9f5bbeb4e3792c8",
      "b60bb154cdd84afbbcf4bb87b8cfed7b",
      "3ed9bc9bdec74d7ebae91aaadc7f0cef",
      "f25a5d1a4d224bb6b99ad0499e91f6d8"
     ]
    },
    "executionInfo": {
     "elapsed": 24590,
     "status": "ok",
     "timestamp": 1701436312934,
     "user": {
      "displayName": "윤재현 (Acahti)",
      "userId": "14788659600835622523"
     },
     "user_tz": -540
    },
    "id": "d22uNhjBVjej",
    "outputId": "6f687d6f-7e77-4f18-b4f7-6f8aeb47994c"
   },
   "outputs": [],
   "source": [
    "from transformers import T5ForConditionalGeneration,AutoTokenizer\n",
    "path = \"lcw99/t5-large-korean-text-summary\"\n",
    "model = T5ForConditionalGeneration.from_pretrained(path)\n",
    "tokenizer = AutoTokenizer.from_pretrained(path)"
   ]
  },
  {
   "cell_type": "code",
   "execution_count": null,
   "metadata": {
    "executionInfo": {
     "elapsed": 6,
     "status": "ok",
     "timestamp": 1701436312934,
     "user": {
      "displayName": "윤재현 (Acahti)",
      "userId": "14788659600835622523"
     },
     "user_tz": -540
    },
    "id": "5r9W5nn2hQd7"
   },
   "outputs": [],
   "source": [
    "df_sum = df.copy()"
   ]
  },
  {
   "cell_type": "code",
   "execution_count": null,
   "metadata": {
    "colab": {
     "base_uri": "https://localhost:8080/"
    },
    "executionInfo": {
     "elapsed": 413366,
     "status": "ok",
     "timestamp": 1701436726296,
     "user": {
      "displayName": "윤재현 (Acahti)",
      "userId": "14788659600835622523"
     },
     "user_tz": -540
    },
    "id": "keqY5mBuVkVm",
    "outputId": "f4d7c01d-b137-41c8-bc03-77239045e3c3"
   },
   "outputs": [],
   "source": [
    "# 데이터프레임의 각 행에 대해 summary 생성 및 추가\n",
    "for index, row in df_sum.iterrows():\n",
    "    text = row['Transcript']\n",
    "    print(len(text))\n",
    "    # 텍스트를 토큰화하고 모델로 summary 생성\n",
    "    token = tokenizer(text[:5000], return_tensors=\"pt\")\n",
    "    output = model.generate(input_ids=token[\"input_ids\"], attention_mask=token[\"attention_mask\"], max_length=150)\n",
    "    summary = tokenizer.decode(output[0])[5:-4]\n",
    "    print(index)\n",
    "\n",
    "    # 생성된 summary를 데이터프레임에 추가\n",
    "    df_sum.at[index, 'Summary'] = summary"
   ]
  },
  {
   "cell_type": "code",
   "execution_count": null,
   "metadata": {
    "colab": {
     "base_uri": "https://localhost:8080/",
     "height": 0
    },
    "executionInfo": {
     "elapsed": 6,
     "status": "ok",
     "timestamp": 1701436726296,
     "user": {
      "displayName": "윤재현 (Acahti)",
      "userId": "14788659600835622523"
     },
     "user_tz": -540
    },
    "id": "ehbQ6dMjaYyC",
    "outputId": "8ee57a11-3389-4f93-b926-91c1d64c8ccf"
   },
   "outputs": [],
   "source": [
    "# 'Transcript' 열을 DataFrame에서 제거\n",
    "df_sum = df_sum.drop(columns=['Transcript'])\n",
    "\n",
    "# 결과 확인\n",
    "df_sum\n"
   ]
  },
  {
   "cell_type": "code",
   "execution_count": null,
   "metadata": {
    "executionInfo": {
     "elapsed": 4,
     "status": "ok",
     "timestamp": 1701436726296,
     "user": {
      "displayName": "윤재현 (Acahti)",
      "userId": "14788659600835622523"
     },
     "user_tz": -540
    },
    "id": "6ML_xbuX1sv-"
   },
   "outputs": [],
   "source": [
    "dfdf = df_sum.copy()\n",
    "def remove_consecutive_duplicates_in_summary(row):\n",
    "    # 'Summary' 열의 값을 공백 단위로 나눔\n",
    "    words = row['Summary'].split(' ')\n",
    "\n",
    "    # 중복을 제거한 단어 리스트 생성\n",
    "    unique_words = [words[0]]\n",
    "    for word in words[1:]:\n",
    "        if word != unique_words[-1]:\n",
    "            unique_words.append(word)\n",
    "\n",
    "    # 리스트를 다시 문자열로 결합하여 반환\n",
    "    return ' '.join(unique_words)\n",
    "\n",
    "# 'Summary' 열의 각 행에 대해 중복된 어구 제거 함수 적용\n",
    "dfdf['Summary'] = dfdf.apply(remove_consecutive_duplicates_in_summary, axis=1)"
   ]
  },
  {
   "cell_type": "code",
   "execution_count": null,
   "metadata": {
    "executionInfo": {
     "elapsed": 750,
     "status": "ok",
     "timestamp": 1701436727042,
     "user": {
      "displayName": "윤재현 (Acahti)",
      "userId": "14788659600835622523"
     },
     "user_tz": -540
    },
    "id": "m6g-im13gWTD"
   },
   "outputs": [],
   "source": [
    "save_path = \"/content/drive/MyDrive/osp_team_project/youtube_data/\"\n",
    "save_name = \"data_sports.csv\"\n",
    "\n",
    "dfdf.to_csv(save_path + save_name, index=False)"
   ]
  },
  {
   "cell_type": "code",
   "execution_count": null,
   "metadata": {
    "id": "wUD4Quz4RHcm"
   },
   "outputs": [],
   "source": [
    "# '#shorts'가 포함된 행과 포함되지 않은 행으로 데이터프레임 분리\n",
    "df_shorts = df[df['Description'].str.contains('#shorts')]\n",
    "df_normal = df[~df['Description'].str.contains('#shorts')]"
   ]
  },
  {
   "cell_type": "code",
   "execution_count": null,
   "metadata": {
    "colab": {
     "base_uri": "https://localhost:8080/",
     "height": 1000
    },
    "executionInfo": {
     "elapsed": 15,
     "status": "ok",
     "timestamp": 1701427427803,
     "user": {
      "displayName": "윤재현 (Acahti)",
      "userId": "14788659600835622523"
     },
     "user_tz": -540
    },
    "id": "Fjf5igQbR-8Z",
    "outputId": "c2d7faba-7e20-49d4-d3ad-2f8db065e545"
   },
   "outputs": [],
   "source": [
    "df_shorts.head()"
   ]
  }
 ],
 "metadata": {
  "accelerator": "GPU",
  "colab": {
   "authorship_tag": "ABX9TyN6yUAY9c/H8Wa2cfCXi4QV",
   "gpuType": "T4",
   "machine_shape": "hm",
   "mount_file_id": "1S58dhZyKEVlnJreON__rI1orpmzD0B0J",
   "provenance": []
  },
  "kernelspec": {
   "display_name": "Python 3",
   "name": "python3"
  },
  "language_info": {
   "name": "python"
  }
 },
 "nbformat": 4,
 "nbformat_minor": 0
}
