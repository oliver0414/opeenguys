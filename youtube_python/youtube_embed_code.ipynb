{
 "cells": [
  {
   "cell_type": "code",
   "execution_count": null,
   "metadata": {
    "executionInfo": {
     "elapsed": 1,
     "status": "ok",
     "timestamp": 1701437089939,
     "user": {
      "displayName": "윤재현 (Acahti)",
      "userId": "14788659600835622523"
     },
     "user_tz": -540
    },
    "id": "I04Ka7RPgWFN"
   },
   "outputs": [],
   "source": []
  },
  {
   "cell_type": "code",
   "execution_count": null,
   "metadata": {
    "executionInfo": {
     "elapsed": 376,
     "status": "ok",
     "timestamp": 1701437090742,
     "user": {
      "displayName": "윤재현 (Acahti)",
      "userId": "14788659600835622523"
     },
     "user_tz": -540
    },
    "id": "xuV_SMY4gwoK"
   },
   "outputs": [],
   "source": [
    "# from google.colab import drive\n",
    "# drive.mount('/content/drive')"
   ]
  },
  {
   "cell_type": "code",
   "execution_count": null,
   "metadata": {
    "executionInfo": {
     "elapsed": 10,
     "status": "ok",
     "timestamp": 1701437090743,
     "user": {
      "displayName": "윤재현 (Acahti)",
      "userId": "14788659600835622523"
     },
     "user_tz": -540
    },
    "id": "JDXCDki-hohr"
   },
   "outputs": [],
   "source": [
    "path = '/content/drive/MyDrive/osp_team_project/youtube_data/'\n",
    "name = 'data_sci_tech.csv'\n",
    "\n",
    "import pandas as pd\n",
    "import re\n",
    "\n",
    "# CSV 파일을 읽어옴\n",
    "file_path = path + name\n",
    "df = pd.read_csv(file_path)"
   ]
  },
  {
   "cell_type": "code",
   "execution_count": null,
   "metadata": {
    "colab": {
     "base_uri": "https://localhost:8080/",
     "height": 1000
    },
    "executionInfo": {
     "elapsed": 10,
     "status": "ok",
     "timestamp": 1701437090744,
     "user": {
      "displayName": "윤재현 (Acahti)",
      "userId": "14788659600835622523"
     },
     "user_tz": -540
    },
    "id": "FHrO9TjmiYyx",
    "outputId": "77df8e8c-c28f-4317-d752-8d1095ef0cb7"
   },
   "outputs": [],
   "source": [
    "df"
   ]
  },
  {
   "cell_type": "code",
   "execution_count": null,
   "metadata": {
    "colab": {
     "base_uri": "https://localhost:8080/"
    },
    "executionInfo": {
     "elapsed": 9,
     "status": "ok",
     "timestamp": 1701437090744,
     "user": {
      "displayName": "윤재현 (Acahti)",
      "userId": "14788659600835622523"
     },
     "user_tz": -540
    },
    "id": "Iq5vv1_4gysA",
    "outputId": "dd990003-9c9a-455e-892f-b75fea5d3de9"
   },
   "outputs": [],
   "source": [
    "\n",
    "\n",
    "# 비디오 ID를 추출하는 함수\n",
    "def extract_video_id(link):\n",
    "    # YouTube 동영상 링크에서 비디오 ID 추출\n",
    "    match = re.search(r\"(?<=v=)[^&#]+\", link)\n",
    "    return match.group(0) if match else None\n",
    "\n",
    "# video_link 열을 기반으로 비디오 ID를 추출하여 새로운 열에 추가\n",
    "df['Video_id'] = df['Video Link'].apply(extract_video_id)\n",
    "\n",
    "# embed 코드를 생성하여 새로운 열에 추가\n",
    "df['Embed_code'] = 'https://www.youtube.com/embed/' + df['Video_id']\n",
    "\n",
    "# 결과를 확인\n",
    "print(df.head())\n"
   ]
  },
  {
   "cell_type": "code",
   "execution_count": null,
   "metadata": {
    "executionInfo": {
     "elapsed": 5,
     "status": "ok",
     "timestamp": 1701437090744,
     "user": {
      "displayName": "윤재현 (Acahti)",
      "userId": "14788659600835622523"
     },
     "user_tz": -540
    },
    "id": "vVGQLuKNhmY6"
   },
   "outputs": [],
   "source": [
    "# 수정된 DataFrame을 CSV 파일로 저장\n",
    "df.to_csv(file_path, index=False)"
   ]
  }
 ],
 "metadata": {
  "colab": {
   "authorship_tag": "ABX9TyOCUhxVxGoSMSTUcj015any",
   "provenance": []
  },
  "kernelspec": {
   "display_name": "Python 3",
   "name": "python3"
  },
  "language_info": {
   "name": "python"
  }
 },
 "nbformat": 4,
 "nbformat_minor": 0
}
