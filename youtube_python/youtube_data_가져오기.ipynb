{
 "cells": [
  {
   "cell_type": "code",
   "execution_count": null,
   "metadata": {
    "colab": {
     "base_uri": "https://localhost:8080/"
    },
    "executionInfo": {
     "elapsed": 6008,
     "status": "ok",
     "timestamp": 1701436177571,
     "user": {
      "displayName": "윤재현 (Acahti)",
      "userId": "14788659600835622523"
     },
     "user_tz": -540
    },
    "id": "azZD8vum2tiN",
    "outputId": "a6c330c1-4f3e-4e97-cc58-73ec29f77879"
   },
   "outputs": [],
   "source": [
    "!pip install google-auth google-auth-oauthlib google-auth-httplib2 google-api-python-client"
   ]
  },
  {
   "cell_type": "code",
   "execution_count": null,
   "metadata": {
    "id": "RGsPydBB2vL6"
   },
   "outputs": [],
   "source": [
    "import google.auth\n",
    "from google.auth.transport.requests import Request\n",
    "from google.oauth2.credentials import Credentials\n",
    "from googleapiclient.discovery import build\n",
    "\n",
    "api_key = \"API_KEY\"  # API 키\n",
    "\n",
    "# YouTube API 서비스 빌드\n",
    "credentials, _ = google.auth.default(scopes=[\"https://www.googleapis.com/auth/youtube.readonly\"])\n",
    "\n",
    "youtube = build('youtube', 'v3', developerKey=api_key)\n",
    "\n",
    "\n",
    "request = youtube.videos().list(\n",
    "    part=\"snippet,contentDetails,statistics\",\n",
    "    chart=\"mostPopular\",\n",
    "    videoCategoryId=\"17\",\n",
    "    regionCode=\"KR\",  # 한국의 국가 코드\n",
    "    maxResults=50  # 가져올 동영상 수\n",
    ")\n",
    "\n",
    "response = request.execute()\n",
    "\n"
   ]
  },
  {
   "cell_type": "code",
   "execution_count": null,
   "metadata": {
    "id": "22LMUfEjPY8K"
   },
   "outputs": [],
   "source": [
    "import pandas as pd"
   ]
  },
  {
   "cell_type": "code",
   "execution_count": null,
   "metadata": {
    "id": "LgJfMDDOPVrV"
   },
   "outputs": [],
   "source": [
    "# 결과를 저장할 리스트 초기화\n",
    "categories = []\n",
    "titles = []\n",
    "channels = []\n",
    "video_links = []\n",
    "channel_links = []\n",
    "views = []\n",
    "likes = []\n",
    "thumbnails = []\n",
    "descriptions = []\n",
    "durations = []\n",
    "\n",
    "\n",
    "# API 응답에서 각 동영상 정보 추출\n",
    "for item in response['items']:\n",
    "    snippet = item['snippet']\n",
    "    statistics = item['statistics']\n",
    "    content_details = item['contentDetails']\n",
    "\n",
    "    # 각 항목에서 필요한 정보 추출\n",
    "    category_id = snippet.get('categoryId', '')\n",
    "    title = snippet['title']\n",
    "    channel = snippet['channelTitle']\n",
    "    video_id = item['id']\n",
    "    channel_id = snippet['channelId']\n",
    "    view_count = statistics['viewCount']\n",
    "    like_count = statistics.get('likeCount', 0)\n",
    "    thumbnail_url = f\"https://img.youtube.com/vi/{video_id}/hqdefault.jpg\"\n",
    "    description = snippet.get('description', '')\n",
    "    duration = content_details['duration']\n",
    "\n",
    "    # 동영상 및 채널 링크 생성\n",
    "    video_link = f\"https://www.youtube.com/watch?v={video_id}\"\n",
    "    channel_link = f\"https://www.youtube.com/channel/{channel_id}\"\n",
    "\n",
    "    # 추출된 정보를 리스트에 추가\n",
    "    categories.append(category_id)\n",
    "    titles.append(title)\n",
    "    channels.append(channel)\n",
    "    video_links.append(video_link)\n",
    "    channel_links.append(channel_link)\n",
    "    views.append(view_count)\n",
    "    likes.append(like_count)\n",
    "    thumbnails.append(thumbnail_url)\n",
    "    descriptions.append(description)\n",
    "    durations.append(duration)\n",
    "\n",
    "# 데이터프레임 생성\n",
    "df = pd.DataFrame({\n",
    "    'Category': categories,\n",
    "    'Title': titles,\n",
    "    'Channel': channels,\n",
    "    'Video Link': video_links,\n",
    "    'Channel Link': channel_links,\n",
    "    'Views': views,\n",
    "    'Likes': likes,\n",
    "    'Thumbnail': thumbnails,\n",
    "    'Duration': durations,\n",
    "    'Description': descriptions\n",
    "})\n"
   ]
  },
  {
   "cell_type": "code",
   "execution_count": null,
   "metadata": {
    "colab": {
     "base_uri": "https://localhost:8080/",
     "height": 1000
    },
    "executionInfo": {
     "elapsed": 5,
     "status": "ok",
     "timestamp": 1701436179772,
     "user": {
      "displayName": "윤재현 (Acahti)",
      "userId": "14788659600835622523"
     },
     "user_tz": -540
    },
    "id": "GmVJ0LoIPp-N",
    "outputId": "f6b4f61a-a49d-478b-f0f7-521972cf8d57"
   },
   "outputs": [],
   "source": [
    "df"
   ]
  },
  {
   "cell_type": "code",
   "execution_count": null,
   "metadata": {
    "id": "Do7HH0MvMTes"
   },
   "outputs": [],
   "source": [
    "# df = df[df['Category'] == \"28\"]"
   ]
  },
  {
   "cell_type": "code",
   "execution_count": null,
   "metadata": {
    "id": "b2Rkgc9BPqFY"
   },
   "outputs": [],
   "source": [
    "# 데이터프레임을 CSV 파일로 저장\n",
    "path = \"/content/drive/MyDrive/osp_team_project/\"\n",
    "df.to_csv(path + 'data_sports_notext.csv', index=False)"
   ]
  }
 ],
 "metadata": {
  "colab": {
   "authorship_tag": "ABX9TyP7BThD9JJrD8BIwFrylh42",
   "mount_file_id": "1F8YYyHbfVDABK__yS5QJvn72w5G_uqIB",
   "provenance": []
  },
  "kernelspec": {
   "display_name": "Python 3",
   "name": "python3"
  },
  "language_info": {
   "name": "python"
  }
 },
 "nbformat": 4,
 "nbformat_minor": 0
}
